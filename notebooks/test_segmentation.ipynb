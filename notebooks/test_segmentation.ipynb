{
 "cells": [
  {
   "cell_type": "code",
   "execution_count": 2,
   "metadata": {},
   "outputs": [],
   "source": [
    "import os\n",
    "import pandas as pd\n",
    "import matplotlib.pyplot as plt\n",
    "from point_e.util.plotting import plot_point_cloud\n",
    "from point_e.util.point_cloud import PointCloud, PointNet, PARTNET_MODELS\n"
   ]
  },
  {
   "cell_type": "code",
   "execution_count": 3,
   "metadata": {},
   "outputs": [],
   "source": [
    "n = 1\n",
    "output_dir = \"test_segmentation\"\n",
    "pointnet_models_dir = \"/scratch/noam/pepsi/pointnet\"\n",
    "shapenet_dir = \"/scratch/noam/shapetalk/point_clouds/scaled_to_align_rendering\"\n",
    "shapetalk_csv_path = \"/scratch/noam/shapetalk/language/shapetalk_preprocessed_public_version_0.csv\""
   ]
  },
  {
   "cell_type": "code",
   "execution_count": null,
   "metadata": {},
   "outputs": [],
   "source": [
    "os.makedirs(output_dir, exist_ok=True)\n",
    "df = pd.read_csv(shapetalk_csv_path)\n",
    "for shape_category in PARTNET_MODELS:\n",
    "    shape_df = df[df[\"source_object_class\"] == shape_category].sample(n)\n",
    "    net = PointNet(shape_category, pointnet_models_dir)\n",
    "    for _, row in shape_df.iterrows():\n",
    "        uid = row.source_uid\n",
    "        pc = PointCloud.load_shapenet(\n",
    "            shapenet_dir,\n",
    "            uid,\n",
    "            shape_category,\n",
    "        )\n",
    "        pc = pc.segment(net)\n",
    "        plot_point_cloud(pc).savefig(f\"{output_dir}/{uid.replace('/', '_')}.png\")\n",
    "        plt.close()\n",
    "        pc.render(f\"{output_dir}/{uid.replace('/', '_')}_render\")\n",
    "        for part in PARTNET_MODELS[shape_category].parts:\n",
    "            part_pc = pc.mask(part)\n",
    "            plot_point_cloud(part_pc).savefig(\n",
    "                f\"{output_dir}/{uid.replace('/', '_')}_part_{part}.png\"\n",
    "            )\n",
    "            plt.close()\n",
    "            part_pc.render(f\"{output_dir}/{uid.replace('/', '_')}_part_{part}_render\")\n",
    "        for file in os.listdir(output_dir):\n",
    "            if file.endswith(\".xml\"):\n",
    "                os.remove(f\"{output_dir}/{file}\")"
   ]
  }
 ],
 "metadata": {
  "kernelspec": {
   "display_name": "point-e",
   "language": "python",
   "name": "python3"
  },
  "language_info": {
   "codemirror_mode": {
    "name": "ipython",
    "version": 3
   },
   "file_extension": ".py",
   "mimetype": "text/x-python",
   "name": "python",
   "nbconvert_exporter": "python",
   "pygments_lexer": "ipython3",
   "version": "3.10.14"
  }
 },
 "nbformat": 4,
 "nbformat_minor": 2
}
